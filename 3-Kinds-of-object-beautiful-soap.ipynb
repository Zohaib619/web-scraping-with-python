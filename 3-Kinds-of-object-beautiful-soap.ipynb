{
 "cells": [
  {
   "cell_type": "markdown",
   "id": "f376d4bb-b349-41bf-9992-ad20bdba2d14",
   "metadata": {},
   "source": [
    "## Kinds of objects in beautiful soap:\n",
    "<li>Tag</li>\n",
    "<li>NavigableString (Content inside the tag)</li>\n",
    "<li>BeautifulSoap (Get the head tag)</li>\n",
    "<li>Comments</li>"
   ]
  },
  {
   "cell_type": "code",
   "execution_count": 1,
   "id": "4bacd2eb-7805-469e-93e9-3f89223c3b06",
   "metadata": {},
   "outputs": [],
   "source": [
    "import requests\n",
    "from bs4 import BeautifulSoup"
   ]
  },
  {
   "cell_type": "code",
   "execution_count": 2,
   "id": "51cb157f-903b-4060-b882-37d51eb9499b",
   "metadata": {},
   "outputs": [],
   "source": [
    "web = requests.get(\"https://www.tutorialsfreak.com/\")"
   ]
  },
  {
   "cell_type": "code",
   "execution_count": 4,
   "id": "3a04273c-f421-43fa-9859-c43ffbac47a6",
   "metadata": {},
   "outputs": [],
   "source": [
    "soap = BeautifulSoup(web.content, \"html.parser\")"
   ]
  },
  {
   "cell_type": "markdown",
   "id": "851b4acd-8ed1-494c-9533-6916b5ef1f17",
   "metadata": {},
   "source": [
    "# TAG\n",
    "This is will get the first tag of the html"
   ]
  },
  {
   "cell_type": "code",
   "execution_count": 10,
   "id": "24280238-dfc1-4cc0-a608-591f444b2c98",
   "metadata": {},
   "outputs": [
    {
     "data": {
      "text/plain": [
       "bs4.element.Tag"
      ]
     },
     "execution_count": 10,
     "metadata": {},
     "output_type": "execute_result"
    }
   ],
   "source": [
    "tag = soap.html\n",
    "type(tag)"
   ]
  },
  {
   "cell_type": "code",
   "execution_count": 11,
   "id": "ef3a259f-2079-4706-b18f-71223a496b54",
   "metadata": {},
   "outputs": [
    {
     "data": {
      "text/plain": [
       "<p class=\"section-subheading\">Kickstart effective learning with Tutorials Freak, with new content published every day.</p>"
      ]
     },
     "execution_count": 11,
     "metadata": {},
     "output_type": "execute_result"
    }
   ],
   "source": [
    "tag = soap.p\n",
    "tag"
   ]
  },
  {
   "cell_type": "markdown",
   "id": "fb670554-8396-4e19-b359-f9f11e955d7c",
   "metadata": {},
   "source": [
    "# NavigableString\n",
    "to get the content which is inside the tag"
   ]
  },
  {
   "cell_type": "code",
   "execution_count": 14,
   "id": "066b6655-6a89-4eb5-883b-9b2136160880",
   "metadata": {},
   "outputs": [
    {
     "data": {
      "text/plain": [
       "'Kickstart effective learning with Tutorials Freak, with new content published every day.'"
      ]
     },
     "execution_count": 14,
     "metadata": {},
     "output_type": "execute_result"
    }
   ],
   "source": [
    "tag = soap.p.string\n",
    "tag"
   ]
  },
  {
   "cell_type": "markdown",
   "id": "8655767e-1ace-4774-94db-669d42408f92",
   "metadata": {},
   "source": [
    "# BeautifulSoap"
   ]
  },
  {
   "cell_type": "code",
   "execution_count": 21,
   "id": "ec8ff097-8be0-4b17-a4aa-8fa8eea40093",
   "metadata": {},
   "outputs": [
    {
     "data": {
      "text/plain": [
       "[<p class=\"section-subheading\">Kickstart effective learning with Tutorials Freak, with new content published every day.</p>,\n",
       " <p class=\"fs-16 fw-400 lh-24 label-color-1 card-text\">The entire content on the site is verified by pro developers and tech freaks.</p>,\n",
       " <p class=\"fs-16 fw-400 lh-24 label-color-1 card-text\">The entire content on the site is verified by pro developers and tech freaks. Enabling self-directed learning so that you can learn at your pace and shape your own path.</p>,\n",
       " <p class=\"fs-16 fw-400 lh-24 label-color-1 card-text\">Along with simplified tutorials, you get video content created by industry experts.</p>,\n",
       " <p class=\"fw-400 fs-20 lh-30 label-color-2 mb-lg-5\">Learning programming and technical things can be complex. We are here to make it easy with simple and interactive tutorials.</p>,\n",
       " <p class=\"section-subheading mb-0\">Learning programming and technical things can be complex. We are here to make it easy with simple and interactive tutorials.</p>,\n",
       " <p class=\"section-subheading mb-0\">Explore the expert-curated interview questions with answers.</p>,\n",
       " <p class=\"section-subheading mb-0\">Plenty of quizzes with time duration and skill assessment.</p>,\n",
       " <p class=\"section-subheading mb-0\">Find coding examples with programs, output, easy explanations, and videos.</p>,\n",
       " <p class=\"section-subheading mb-0\"><img class=\"img-fluid\" height=\"40\" src=\"/images/ws-cube-tech-logo.svg\" width=\"210\"/></p>,\n",
       " <p class=\"section-subheading pb-lg-5\">With an account, you get access to premium content and courses at no cost.</p>,\n",
       " <p class=\"section-subheading pe-md-5\">Download the app now to learn and practice hassle-free.</p>,\n",
       " <p class=\"fs-13 lh-24 label-color-1 mb-0 footer-content fw-500 text-center text-lg-end\">© <!-- --> Tutorials Freak . All Rights Reserved | Design By  <a class=\"text-decoration-none label-color-1 fw-400\" href=\"https://www.wscubetech.com/\" rel=\"noreferrer\" target=\"_blank\" title=\"WsCube Tech\">WsCube Tech</a></p>]"
      ]
     },
     "execution_count": 21,
     "metadata": {},
     "output_type": "execute_result"
    }
   ],
   "source": [
    "tags = soap.find_all(\"p\")\n",
    "tags"
   ]
  },
  {
   "cell_type": "code",
   "execution_count": null,
   "id": "35433af3-1f34-492d-a92d-b1d3fec176c3",
   "metadata": {},
   "outputs": [],
   "source": []
  }
 ],
 "metadata": {
  "kernelspec": {
   "display_name": "Python 3 (ipykernel)",
   "language": "python",
   "name": "python3"
  },
  "language_info": {
   "codemirror_mode": {
    "name": "ipython",
    "version": 3
   },
   "file_extension": ".py",
   "mimetype": "text/x-python",
   "name": "python",
   "nbconvert_exporter": "python",
   "pygments_lexer": "ipython3",
   "version": "3.13.2"
  }
 },
 "nbformat": 4,
 "nbformat_minor": 5
}
