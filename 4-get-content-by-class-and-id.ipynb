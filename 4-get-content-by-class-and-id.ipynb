{
 "cells": [
  {
   "cell_type": "code",
   "execution_count": 1,
   "id": "78dca4e0-afe3-44c2-94a5-ed73797576f5",
   "metadata": {},
   "outputs": [],
   "source": [
    "import requests\n",
    "from bs4 import BeautifulSoup"
   ]
  },
  {
   "cell_type": "code",
   "execution_count": 3,
   "id": "929b5e20-f62a-4680-9b42-be51031cb35b",
   "metadata": {},
   "outputs": [],
   "source": [
    "web = requests.get(\"https://www.tutorialsfreak.com/\")"
   ]
  },
  {
   "cell_type": "code",
   "execution_count": 4,
   "id": "81ceca98-e0ce-482c-8822-96ec07f7a1a7",
   "metadata": {},
   "outputs": [],
   "source": [
    "soap = BeautifulSoup(web.content, \"html.parser\")"
   ]
  },
  {
   "cell_type": "code",
   "execution_count": 6,
   "id": "a5fb7f2f-a0b7-43bb-9cd5-fe6f462410e8",
   "metadata": {},
   "outputs": [],
   "source": [
    "class_data = soap.find(\"div\", class_=\"app-container\")\n",
    "class_data"
   ]
  },
  {
   "cell_type": "code",
   "execution_count": null,
   "id": "5b6d8717-9247-430d-a663-4c73af354c90",
   "metadata": {},
   "outputs": [],
   "source": []
  }
 ],
 "metadata": {
  "kernelspec": {
   "display_name": "Python 3 (ipykernel)",
   "language": "python",
   "name": "python3"
  },
  "language_info": {
   "codemirror_mode": {
    "name": "ipython",
    "version": 3
   },
   "file_extension": ".py",
   "mimetype": "text/x-python",
   "name": "python",
   "nbconvert_exporter": "python",
   "pygments_lexer": "ipython3",
   "version": "3.13.2"
  }
 },
 "nbformat": 4,
 "nbformat_minor": 5
}
